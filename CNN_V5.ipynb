{
  "nbformat": 4,
  "nbformat_minor": 0,
  "metadata": {
    "colab": {
      "name": "CNN-V5.ipynb",
      "provenance": [],
      "authorship_tag": "ABX9TyMJ4rowcpeYe/NwQt+y2kuT",
      "include_colab_link": true
    },
    "kernelspec": {
      "name": "python3",
      "display_name": "Python 3"
    },
    "accelerator": "GPU"
  },
  "cells": [
    {
      "cell_type": "markdown",
      "metadata": {
        "id": "view-in-github",
        "colab_type": "text"
      },
      "source": [
        "<a href=\"https://colab.research.google.com/github/mohammad2682/Covid-19/blob/master/CNN_V5.ipynb\" target=\"_parent\"><img src=\"https://colab.research.google.com/assets/colab-badge.svg\" alt=\"Open In Colab\"/></a>"
      ]
    },
    {
      "cell_type": "markdown",
      "metadata": {
        "id": "DH8Dqe5MEmfV",
        "colab_type": "text"
      },
      "source": [
        "## Cloning Dataset from GitHub Reporsitory"
      ]
    },
    {
      "cell_type": "code",
      "metadata": {
        "id": "KfRcMItMEXRx",
        "colab_type": "code",
        "colab": {
          "base_uri": "https://localhost:8080/",
          "height": 119
        },
        "outputId": "256a18bf-c239-4772-8f09-666c7ed594a4"
      },
      "source": [
        "!git clone https://github.com/mohammad2682/Covid19-Dataset"
      ],
      "execution_count": 1,
      "outputs": [
        {
          "output_type": "stream",
          "text": [
            "Cloning into 'Covid19-Dataset'...\n",
            "remote: Enumerating objects: 4243, done.\u001b[K\n",
            "remote: Total 4243 (delta 0), reused 0 (delta 0), pack-reused 4243\u001b[K\n",
            "Receiving objects: 100% (4243/4243), 541.88 MiB | 28.82 MiB/s, done.\n",
            "Resolving deltas: 100% (1/1), done.\n",
            "Checking out files: 100% (4229/4229), done.\n"
          ],
          "name": "stdout"
        }
      ]
    },
    {
      "cell_type": "markdown",
      "metadata": {
        "id": "ok-2nB4wEvNq",
        "colab_type": "text"
      },
      "source": [
        "## Importing Liberaries"
      ]
    },
    {
      "cell_type": "code",
      "metadata": {
        "id": "_A5nFLLtEuNY",
        "colab_type": "code",
        "colab": {}
      },
      "source": [
        "import numpy as np \n",
        "import pandas as pd\n",
        "import cv2\n",
        "import os\n",
        "from matplotlib import pyplot as plt"
      ],
      "execution_count": 2,
      "outputs": []
    },
    {
      "cell_type": "code",
      "metadata": {
        "id": "v_xG0iNgE10T",
        "colab_type": "code",
        "colab": {}
      },
      "source": [
        "from keras.models import Sequential\n",
        "from keras.layers import Conv2D\n",
        "from keras.layers import MaxPooling2D, GlobalAveragePooling2D\n",
        "from keras.layers import Flatten\n",
        "from keras.layers import Dense\n",
        "from keras.layers import BatchNormalization, Dropout, Activation\n",
        "from keras.optimizers import Adam, SGD\n",
        "from keras.callbacks import ModelCheckpoint, ReduceLROnPlateau\n",
        "from keras.utils.np_utils import to_categorical\n",
        "from sklearn.model_selection import train_test_split\n",
        "from keras.preprocessing.image import ImageDataGenerator"
      ],
      "execution_count": 3,
      "outputs": []
    },
    {
      "cell_type": "markdown",
      "metadata": {
        "id": "qNItVaSVOmn4",
        "colab_type": "text"
      },
      "source": [
        "## Reading Dataset"
      ]
    },
    {
      "cell_type": "code",
      "metadata": {
        "id": "de7cDadfOmCl",
        "colab_type": "code",
        "colab": {}
      },
      "source": [
        "disease_types=['COVID', 'non-COVID']\n",
        "data_dir = 'Covid19-Dataset/Covid-19-Dataset/train'\n",
        "train_dir = os.path.join(data_dir)"
      ],
      "execution_count": 4,
      "outputs": []
    },
    {
      "cell_type": "code",
      "metadata": {
        "id": "yNI7pD7ROvbB",
        "colab_type": "code",
        "colab": {}
      },
      "source": [
        "train_data = []\n",
        "for defects_id, sp in enumerate(disease_types):\n",
        "    for file in os.listdir(os.path.join(train_dir, sp)):\n",
        "        train_data.append(['{}/{}'.format(sp, file), defects_id, sp])\n",
        "        \n",
        "train = pd.DataFrame(train_data, columns=['File', 'DiseaseID','Disease Type'])"
      ],
      "execution_count": 5,
      "outputs": []
    },
    {
      "cell_type": "code",
      "metadata": {
        "id": "Usyyb6D0OzqB",
        "colab_type": "code",
        "colab": {}
      },
      "source": [
        "IMAGE_SIZE = 128\n",
        "def read_image(filepath):\n",
        "    return cv2.imread(os.path.join(data_dir, filepath)) # Loading a color image is the default flag\n",
        "# Resize image to target size\n",
        "def resize_image(image, image_size):\n",
        "    return cv2.resize(image.copy(), image_size, interpolation=cv2.INTER_AREA)"
      ],
      "execution_count": 6,
      "outputs": []
    },
    {
      "cell_type": "code",
      "metadata": {
        "id": "QnhSAodsO36W",
        "colab_type": "code",
        "colab": {
          "base_uri": "https://localhost:8080/",
          "height": 51
        },
        "outputId": "ee69673a-2f74-4f8e-e67a-c4de86258148"
      },
      "source": [
        "from tqdm import tqdm\n",
        "X_train = np.zeros((train.shape[0], IMAGE_SIZE, IMAGE_SIZE, 3))\n",
        "for i, file in tqdm(enumerate(train['File'].values)):\n",
        "    image = read_image(file)\n",
        "    if image is not None:\n",
        "        X_train[i] = resize_image(image, (IMAGE_SIZE, IMAGE_SIZE))\n",
        "# Normalize the data\n",
        "X_Train = X_train / 255.\n",
        "print('Train Shape: {}'.format(X_Train.shape))"
      ],
      "execution_count": 7,
      "outputs": [
        {
          "output_type": "stream",
          "text": [
            "2000it [00:06, 299.39it/s]\n"
          ],
          "name": "stderr"
        },
        {
          "output_type": "stream",
          "text": [
            "Train Shape: (2000, 128, 128, 3)\n"
          ],
          "name": "stdout"
        }
      ]
    },
    {
      "cell_type": "code",
      "metadata": {
        "id": "4ruISn0GO7c5",
        "colab_type": "code",
        "colab": {}
      },
      "source": [
        "Y_train = train['DiseaseID'].values\n",
        "Y_train = to_categorical(Y_train, num_classes=2)\n",
        "\n",
        "SEED=42\n",
        "# Split the train and validation sets \n",
        "X_train, X_val, Y_train, Y_val = train_test_split(X_Train, Y_train, test_size=0.2, random_state=SEED)"
      ],
      "execution_count": 8,
      "outputs": []
    },
    {
      "cell_type": "markdown",
      "metadata": {
        "id": "8CpQdq4Pd6Gn",
        "colab_type": "text"
      },
      "source": [
        "## Creating a 3layered CNN"
      ]
    },
    {
      "cell_type": "code",
      "metadata": {
        "id": "QX6jcgR9E5MU",
        "colab_type": "code",
        "colab": {
          "base_uri": "https://localhost:8080/",
          "height": 629
        },
        "outputId": "28f1a1e7-7722-47af-a718-fdcfb8a62864"
      },
      "source": [
        "# Initialising the CNN\n",
        "classifier = Sequential()\n",
        "# Step 1 - Convolution\n",
        "classifier.add(Conv2D(32, (7, 7), input_shape = (128, 128, 3)))\n",
        "classifier.add(Dropout(0.3))\n",
        "#classifier.add(BatchNormalization())\n",
        "classifier.add(Activation('relu'))\n",
        "# Step 2 - Pooling\n",
        "classifier.add(MaxPooling2D(pool_size = (2, 2)))\n",
        "# Adding a second convolutional layer\n",
        "classifier.add(Conv2D(64, (7, 7), activation = 'relu'))\n",
        "classifier.add(Dropout(0.3))\n",
        "classifier.add(MaxPooling2D(pool_size = (2, 2)))\n",
        "# Adding a third convolutional layer\n",
        "classifier.add(Conv2D(128, (7, 7), activation = 'relu'))\n",
        "classifier.add(Dropout(0.3))\n",
        "classifier.add(MaxPooling2D(pool_size = (2, 2)))\n",
        "#classifier.add(GlobalAveragePooling2D())\n",
        "# Step 3 - Flattening\n",
        "classifier.add(Flatten())\n",
        "# Step 4 - Full connection\n",
        "classifier.add(Dense(units = 64, activation = 'relu'))\n",
        "classifier.add(Dropout(0.3))\n",
        "classifier.add(Dense(units = 2, activation = 'softmax'))\n",
        "# Compiling the CNN\n",
        "#optimizer = Adam(lr=0.004, beta_1=0.9, beta_2=0.999, epsilon=0.1, decay=0.0)\n",
        "optimizer = SGD(lr=0.004)\n",
        "classifier.compile(optimizer = optimizer, loss = 'binary_crossentropy', metrics = ['accuracy'])\n",
        "classifier.summary()"
      ],
      "execution_count": 9,
      "outputs": [
        {
          "output_type": "stream",
          "text": [
            "Model: \"sequential\"\n",
            "_________________________________________________________________\n",
            "Layer (type)                 Output Shape              Param #   \n",
            "=================================================================\n",
            "conv2d (Conv2D)              (None, 122, 122, 32)      4736      \n",
            "_________________________________________________________________\n",
            "dropout (Dropout)            (None, 122, 122, 32)      0         \n",
            "_________________________________________________________________\n",
            "activation (Activation)      (None, 122, 122, 32)      0         \n",
            "_________________________________________________________________\n",
            "max_pooling2d (MaxPooling2D) (None, 61, 61, 32)        0         \n",
            "_________________________________________________________________\n",
            "conv2d_1 (Conv2D)            (None, 55, 55, 64)        100416    \n",
            "_________________________________________________________________\n",
            "dropout_1 (Dropout)          (None, 55, 55, 64)        0         \n",
            "_________________________________________________________________\n",
            "max_pooling2d_1 (MaxPooling2 (None, 27, 27, 64)        0         \n",
            "_________________________________________________________________\n",
            "conv2d_2 (Conv2D)            (None, 21, 21, 128)       401536    \n",
            "_________________________________________________________________\n",
            "dropout_2 (Dropout)          (None, 21, 21, 128)       0         \n",
            "_________________________________________________________________\n",
            "max_pooling2d_2 (MaxPooling2 (None, 10, 10, 128)       0         \n",
            "_________________________________________________________________\n",
            "flatten (Flatten)            (None, 12800)             0         \n",
            "_________________________________________________________________\n",
            "dense (Dense)                (None, 64)                819264    \n",
            "_________________________________________________________________\n",
            "dropout_3 (Dropout)          (None, 64)                0         \n",
            "_________________________________________________________________\n",
            "dense_1 (Dense)              (None, 2)                 130       \n",
            "=================================================================\n",
            "Total params: 1,326,082\n",
            "Trainable params: 1,326,082\n",
            "Non-trainable params: 0\n",
            "_________________________________________________________________\n"
          ],
          "name": "stdout"
        }
      ]
    },
    {
      "cell_type": "markdown",
      "metadata": {
        "id": "tU5544UQeFmI",
        "colab_type": "text"
      },
      "source": [
        "## Data Augmentation"
      ]
    },
    {
      "cell_type": "code",
      "metadata": {
        "id": "jZqW3eQqPdl1",
        "colab_type": "code",
        "colab": {}
      },
      "source": [
        "annealer = ReduceLROnPlateau(monitor='val_accuracy', factor=0.5, patience=5, verbose=1, min_lr=1e-3)\n",
        "checkpoint = ModelCheckpoint('model.h5', verbose=1, save_best_only=True)\n",
        "# Generates batches of image data with data augmentation\n",
        "datagen = ImageDataGenerator(rotation_range=360, # Degree range for random rotations\n",
        "                        width_shift_range=0.2, # Range for random horizontal shifts\n",
        "                        height_shift_range=0.2, # Range for random vertical shifts\n",
        "                        zoom_range=0.2, # Range for random zoom\n",
        "                        horizontal_flip=True, # Randomly flip inputs horizontally\n",
        "                        vertical_flip=True) # Randomly flip inputs vertically\n",
        "\n",
        "datagen.fit(X_train)"
      ],
      "execution_count": 10,
      "outputs": []
    },
    {
      "cell_type": "markdown",
      "metadata": {
        "id": "wcCgsf77eIek",
        "colab_type": "text"
      },
      "source": [
        "## Training the Model"
      ]
    },
    {
      "cell_type": "code",
      "metadata": {
        "id": "eBCbYff-FKLc",
        "colab_type": "code",
        "colab": {
          "base_uri": "https://localhost:8080/",
          "height": 1000
        },
        "outputId": "182b4f3c-902f-4929-cb0a-d20380e83188"
      },
      "source": [
        "annealer = ReduceLROnPlateau(monitor='val_accuracy', factor=0.5, patience=5, verbose=1, min_lr=1e-3)\n",
        "checkpoint = ModelCheckpoint('model.h5', verbose=1, save_best_only=True)\n",
        "\n",
        "history = classifier.fit_generator(datagen.flow(X_train, Y_train, batch_size=32),\n",
        "               steps_per_epoch=2000,\n",
        "               epochs=20,\n",
        "               verbose=2,\n",
        "               callbacks=[annealer, checkpoint],\n",
        "               validation_data=(X_val, Y_val))\n",
        "'''\n",
        "history = classifier.fit_generator(training_set,\n",
        "                          steps_per_epoch = 8000,\n",
        "                          epochs = 10,\n",
        "                          callbacks=[annealer, checkpoint],\n",
        "                          validation_data = test_set,\n",
        "                          validation_steps = 2000)\n",
        "'''"
      ],
      "execution_count": null,
      "outputs": [
        {
          "output_type": "stream",
          "text": [
            "Epoch 1/20\n",
            " - 222s - loss: 0.6111 - accuracy: 0.6581 - val_loss: 0.5565 - val_accuracy: 0.7100\n",
            "\n",
            "Epoch 00001: val_loss improved from inf to 0.55651, saving model to model.h5\n",
            "Epoch 2/20\n",
            " - 217s - loss: 0.4737 - accuracy: 0.7805 - val_loss: 0.4653 - val_accuracy: 0.8225\n",
            "\n",
            "Epoch 00002: val_loss improved from 0.55651 to 0.46533, saving model to model.h5\n",
            "Epoch 3/20\n",
            " - 222s - loss: 0.4080 - accuracy: 0.8198 - val_loss: 0.3476 - val_accuracy: 0.8925\n",
            "\n",
            "Epoch 00003: val_loss improved from 0.46533 to 0.34763, saving model to model.h5\n",
            "Epoch 4/20\n",
            " - 213s - loss: 0.3699 - accuracy: 0.8413 - val_loss: 0.3139 - val_accuracy: 0.8700\n",
            "\n",
            "Epoch 00004: val_loss improved from 0.34763 to 0.31391, saving model to model.h5\n",
            "Epoch 5/20\n",
            " - 210s - loss: 0.3445 - accuracy: 0.8552 - val_loss: 0.3007 - val_accuracy: 0.8875\n",
            "\n",
            "Epoch 00005: val_loss improved from 0.31391 to 0.30068, saving model to model.h5\n",
            "Epoch 6/20\n",
            " - 209s - loss: 0.3279 - accuracy: 0.8678 - val_loss: 0.3045 - val_accuracy: 0.8700\n",
            "\n",
            "Epoch 00006: val_loss did not improve from 0.30068\n",
            "Epoch 7/20\n",
            " - 209s - loss: 0.3073 - accuracy: 0.8760 - val_loss: 0.3020 - val_accuracy: 0.9075\n",
            "\n",
            "Epoch 00007: val_loss did not improve from 0.30068\n",
            "Epoch 8/20\n",
            " - 209s - loss: 0.2954 - accuracy: 0.8818 - val_loss: 0.4192 - val_accuracy: 0.8300\n",
            "\n",
            "Epoch 00008: val_loss did not improve from 0.30068\n",
            "Epoch 9/20\n",
            " - 210s - loss: 0.2842 - accuracy: 0.8895 - val_loss: 0.2521 - val_accuracy: 0.9050\n",
            "\n",
            "Epoch 00009: val_loss improved from 0.30068 to 0.25211, saving model to model.h5\n",
            "Epoch 10/20\n",
            " - 209s - loss: 0.2710 - accuracy: 0.8941 - val_loss: 0.2374 - val_accuracy: 0.9075\n",
            "\n",
            "Epoch 00010: val_loss improved from 0.25211 to 0.23739, saving model to model.h5\n",
            "Epoch 11/20\n",
            " - 210s - loss: 0.2641 - accuracy: 0.8962 - val_loss: 0.2860 - val_accuracy: 0.9225\n",
            "\n",
            "Epoch 00011: val_loss did not improve from 0.23739\n",
            "Epoch 12/20\n",
            " - 210s - loss: 0.2582 - accuracy: 0.8991 - val_loss: 0.2341 - val_accuracy: 0.9150\n",
            "\n",
            "Epoch 00012: val_loss improved from 0.23739 to 0.23410, saving model to model.h5\n",
            "Epoch 13/20\n",
            " - 210s - loss: 0.2501 - accuracy: 0.9034 - val_loss: 0.2263 - val_accuracy: 0.9125\n",
            "\n",
            "Epoch 00013: val_loss improved from 0.23410 to 0.22631, saving model to model.h5\n",
            "Epoch 14/20\n",
            " - 209s - loss: 0.2498 - accuracy: 0.9040 - val_loss: 0.2199 - val_accuracy: 0.9225\n",
            "\n",
            "Epoch 00014: val_loss improved from 0.22631 to 0.21991, saving model to model.h5\n",
            "Epoch 15/20\n",
            " - 209s - loss: 0.2405 - accuracy: 0.9065 - val_loss: 0.2230 - val_accuracy: 0.9100\n",
            "\n",
            "Epoch 00015: val_loss did not improve from 0.21991\n",
            "Epoch 16/20\n",
            " - 209s - loss: 0.2401 - accuracy: 0.9077 - val_loss: 0.1913 - val_accuracy: 0.9250\n",
            "\n",
            "Epoch 00016: val_loss improved from 0.21991 to 0.19126, saving model to model.h5\n",
            "Epoch 17/20\n",
            " - 208s - loss: 0.2348 - accuracy: 0.9086 - val_loss: 0.1845 - val_accuracy: 0.9250\n",
            "\n",
            "Epoch 00017: val_loss improved from 0.19126 to 0.18454, saving model to model.h5\n",
            "Epoch 18/20\n",
            " - 208s - loss: 0.2376 - accuracy: 0.9083 - val_loss: 0.2155 - val_accuracy: 0.9150\n",
            "\n",
            "Epoch 00018: val_loss did not improve from 0.18454\n",
            "Epoch 19/20\n",
            " - 208s - loss: 0.2328 - accuracy: 0.9103 - val_loss: 0.1584 - val_accuracy: 0.9425\n",
            "\n",
            "Epoch 00019: val_loss improved from 0.18454 to 0.15838, saving model to model.h5\n",
            "Epoch 20/20\n",
            " - 209s - loss: 0.2318 - accuracy: 0.9122 - val_loss: 0.1815 - val_accuracy: 0.9350\n",
            "\n",
            "Epoch 00020: val_loss did not improve from 0.15838\n"
          ],
          "name": "stdout"
        },
        {
          "output_type": "execute_result",
          "data": {
            "application/vnd.google.colaboratory.intrinsic": {
              "type": "string"
            },
            "text/plain": [
              "'\\nhistory = classifier.fit_generator(training_set,\\n                          steps_per_epoch = 8000,\\n                          epochs = 10,\\n                          callbacks=[annealer, checkpoint],\\n                          validation_data = test_set,\\n                          validation_steps = 2000)\\n'"
            ]
          },
          "metadata": {
            "tags": []
          },
          "execution_count": 20
        }
      ]
    },
    {
      "cell_type": "markdown",
      "metadata": {
        "id": "SLVF0lL7uCuv",
        "colab_type": "text"
      },
      "source": [
        "### Running with SGD optimizer"
      ]
    },
    {
      "cell_type": "code",
      "metadata": {
        "id": "hZiaYSgTuBy5",
        "colab_type": "code",
        "colab": {
          "base_uri": "https://localhost:8080/",
          "height": 1000
        },
        "outputId": "2ee0cd97-31df-4dde-8003-f5d3429e4bc7"
      },
      "source": [
        "annealer = ReduceLROnPlateau(monitor='val_accuracy', factor=0.1, patience=5, verbose=1, min_lr=1e-3)\n",
        "checkpoint = ModelCheckpoint('model.h5', verbose=1, save_best_only=True)\n",
        "\n",
        "history = classifier.fit_generator(datagen.flow(X_train, Y_train, batch_size=32),\n",
        "               steps_per_epoch=50,\n",
        "               epochs=50,\n",
        "               verbose=2,\n",
        "               callbacks=[annealer, checkpoint],\n",
        "               validation_data=(X_val, Y_val))"
      ],
      "execution_count": 13,
      "outputs": [
        {
          "output_type": "stream",
          "text": [
            "Epoch 1/50\n",
            "\n",
            "Epoch 00001: val_loss improved from inf to 0.69302, saving model to model.h5\n",
            "50/50 - 5s - loss: 0.6933 - accuracy: 0.5181 - val_loss: 0.6930 - val_accuracy: 0.5025\n",
            "Epoch 2/50\n",
            "\n",
            "Epoch 00002: val_loss improved from 0.69302 to 0.69099, saving model to model.h5\n",
            "50/50 - 5s - loss: 0.6919 - accuracy: 0.5219 - val_loss: 0.6910 - val_accuracy: 0.5100\n",
            "Epoch 3/50\n",
            "\n",
            "Epoch 00003: val_loss improved from 0.69099 to 0.68969, saving model to model.h5\n",
            "50/50 - 5s - loss: 0.6892 - accuracy: 0.5275 - val_loss: 0.6897 - val_accuracy: 0.6350\n",
            "Epoch 4/50\n",
            "\n",
            "Epoch 00004: val_loss improved from 0.68969 to 0.68960, saving model to model.h5\n",
            "50/50 - 5s - loss: 0.6869 - accuracy: 0.5519 - val_loss: 0.6896 - val_accuracy: 0.5125\n",
            "Epoch 5/50\n",
            "\n",
            "Epoch 00005: val_loss did not improve from 0.68960\n",
            "50/50 - 5s - loss: 0.6860 - accuracy: 0.5319 - val_loss: 0.6901 - val_accuracy: 0.6050\n",
            "Epoch 6/50\n",
            "\n",
            "Epoch 00006: val_loss improved from 0.68960 to 0.68753, saving model to model.h5\n",
            "50/50 - 5s - loss: 0.6855 - accuracy: 0.5512 - val_loss: 0.6875 - val_accuracy: 0.6275\n",
            "Epoch 7/50\n",
            "\n",
            "Epoch 00007: val_loss improved from 0.68753 to 0.68700, saving model to model.h5\n",
            "50/50 - 5s - loss: 0.6818 - accuracy: 0.5519 - val_loss: 0.6870 - val_accuracy: 0.5300\n",
            "Epoch 8/50\n",
            "\n",
            "Epoch 00008: ReduceLROnPlateau reducing learning rate to 0.001.\n",
            "\n",
            "Epoch 00008: val_loss improved from 0.68700 to 0.68548, saving model to model.h5\n",
            "50/50 - 5s - loss: 0.6793 - accuracy: 0.5700 - val_loss: 0.6855 - val_accuracy: 0.5600\n",
            "Epoch 9/50\n",
            "\n",
            "Epoch 00009: val_loss improved from 0.68548 to 0.68398, saving model to model.h5\n",
            "50/50 - 5s - loss: 0.6772 - accuracy: 0.5831 - val_loss: 0.6840 - val_accuracy: 0.6100\n",
            "Epoch 10/50\n",
            "\n",
            "Epoch 00010: val_loss did not improve from 0.68398\n",
            "50/50 - 5s - loss: 0.6744 - accuracy: 0.5844 - val_loss: 0.6840 - val_accuracy: 0.6175\n",
            "Epoch 11/50\n",
            "\n",
            "Epoch 00011: val_loss improved from 0.68398 to 0.68272, saving model to model.h5\n",
            "50/50 - 5s - loss: 0.6715 - accuracy: 0.5819 - val_loss: 0.6827 - val_accuracy: 0.6250\n",
            "Epoch 12/50\n",
            "\n",
            "Epoch 00012: val_loss improved from 0.68272 to 0.68266, saving model to model.h5\n",
            "50/50 - 5s - loss: 0.6666 - accuracy: 0.5950 - val_loss: 0.6827 - val_accuracy: 0.6050\n",
            "Epoch 13/50\n",
            "\n",
            "Epoch 00013: ReduceLROnPlateau reducing learning rate to 0.001.\n",
            "\n",
            "Epoch 00013: val_loss improved from 0.68266 to 0.68111, saving model to model.h5\n",
            "50/50 - 5s - loss: 0.6689 - accuracy: 0.5913 - val_loss: 0.6811 - val_accuracy: 0.5850\n",
            "Epoch 14/50\n",
            "\n",
            "Epoch 00014: val_loss improved from 0.68111 to 0.68016, saving model to model.h5\n",
            "50/50 - 5s - loss: 0.6669 - accuracy: 0.5938 - val_loss: 0.6802 - val_accuracy: 0.6225\n",
            "Epoch 15/50\n",
            "\n",
            "Epoch 00015: val_loss improved from 0.68016 to 0.67943, saving model to model.h5\n",
            "50/50 - 5s - loss: 0.6654 - accuracy: 0.5987 - val_loss: 0.6794 - val_accuracy: 0.5925\n",
            "Epoch 16/50\n",
            "\n",
            "Epoch 00016: val_loss improved from 0.67943 to 0.67831, saving model to model.h5\n",
            "50/50 - 5s - loss: 0.6621 - accuracy: 0.5969 - val_loss: 0.6783 - val_accuracy: 0.6025\n",
            "Epoch 17/50\n",
            "\n",
            "Epoch 00017: val_loss did not improve from 0.67831\n",
            "50/50 - 5s - loss: 0.6671 - accuracy: 0.5875 - val_loss: 0.6790 - val_accuracy: 0.5775\n",
            "Epoch 18/50\n",
            "\n",
            "Epoch 00018: ReduceLROnPlateau reducing learning rate to 0.001.\n",
            "\n",
            "Epoch 00018: val_loss did not improve from 0.67831\n",
            "50/50 - 5s - loss: 0.6653 - accuracy: 0.6044 - val_loss: 0.6792 - val_accuracy: 0.5650\n",
            "Epoch 19/50\n",
            "\n",
            "Epoch 00019: val_loss improved from 0.67831 to 0.67718, saving model to model.h5\n",
            "50/50 - 5s - loss: 0.6645 - accuracy: 0.5938 - val_loss: 0.6772 - val_accuracy: 0.6125\n",
            "Epoch 20/50\n",
            "\n",
            "Epoch 00020: val_loss did not improve from 0.67718\n",
            "50/50 - 5s - loss: 0.6637 - accuracy: 0.5850 - val_loss: 0.6774 - val_accuracy: 0.5825\n",
            "Epoch 21/50\n",
            "\n",
            "Epoch 00021: val_loss improved from 0.67718 to 0.67520, saving model to model.h5\n",
            "50/50 - 5s - loss: 0.6600 - accuracy: 0.6156 - val_loss: 0.6752 - val_accuracy: 0.6275\n",
            "Epoch 22/50\n",
            "\n",
            "Epoch 00022: val_loss improved from 0.67520 to 0.67463, saving model to model.h5\n",
            "50/50 - 5s - loss: 0.6619 - accuracy: 0.6112 - val_loss: 0.6746 - val_accuracy: 0.6250\n",
            "Epoch 23/50\n",
            "\n",
            "Epoch 00023: ReduceLROnPlateau reducing learning rate to 0.001.\n",
            "\n",
            "Epoch 00023: val_loss did not improve from 0.67463\n",
            "50/50 - 5s - loss: 0.6588 - accuracy: 0.6106 - val_loss: 0.6754 - val_accuracy: 0.6150\n",
            "Epoch 24/50\n",
            "\n",
            "Epoch 00024: val_loss improved from 0.67463 to 0.67461, saving model to model.h5\n",
            "50/50 - 5s - loss: 0.6612 - accuracy: 0.6075 - val_loss: 0.6746 - val_accuracy: 0.6000\n",
            "Epoch 25/50\n",
            "\n",
            "Epoch 00025: val_loss improved from 0.67461 to 0.67360, saving model to model.h5\n",
            "50/50 - 5s - loss: 0.6529 - accuracy: 0.6212 - val_loss: 0.6736 - val_accuracy: 0.6175\n",
            "Epoch 26/50\n",
            "\n",
            "Epoch 00026: val_loss did not improve from 0.67360\n",
            "50/50 - 5s - loss: 0.6613 - accuracy: 0.5919 - val_loss: 0.6753 - val_accuracy: 0.5850\n",
            "Epoch 27/50\n",
            "\n",
            "Epoch 00027: val_loss improved from 0.67360 to 0.67207, saving model to model.h5\n",
            "50/50 - 5s - loss: 0.6543 - accuracy: 0.6069 - val_loss: 0.6721 - val_accuracy: 0.5925\n",
            "Epoch 28/50\n",
            "\n",
            "Epoch 00028: ReduceLROnPlateau reducing learning rate to 0.001.\n",
            "\n",
            "Epoch 00028: val_loss did not improve from 0.67207\n",
            "50/50 - 5s - loss: 0.6538 - accuracy: 0.6062 - val_loss: 0.6724 - val_accuracy: 0.6125\n",
            "Epoch 29/50\n",
            "\n",
            "Epoch 00029: val_loss did not improve from 0.67207\n",
            "50/50 - 5s - loss: 0.6547 - accuracy: 0.6212 - val_loss: 0.6734 - val_accuracy: 0.6225\n",
            "Epoch 30/50\n",
            "\n",
            "Epoch 00030: val_loss improved from 0.67207 to 0.67021, saving model to model.h5\n",
            "50/50 - 5s - loss: 0.6534 - accuracy: 0.6125 - val_loss: 0.6702 - val_accuracy: 0.5800\n",
            "Epoch 31/50\n",
            "\n",
            "Epoch 00031: val_loss did not improve from 0.67021\n",
            "50/50 - 5s - loss: 0.6535 - accuracy: 0.6175 - val_loss: 0.6727 - val_accuracy: 0.6175\n",
            "Epoch 32/50\n",
            "\n",
            "Epoch 00032: val_loss improved from 0.67021 to 0.66807, saving model to model.h5\n",
            "50/50 - 5s - loss: 0.6490 - accuracy: 0.6162 - val_loss: 0.6681 - val_accuracy: 0.6300\n",
            "Epoch 33/50\n",
            "\n",
            "Epoch 00033: val_loss did not improve from 0.66807\n",
            "50/50 - 5s - loss: 0.6554 - accuracy: 0.6131 - val_loss: 0.6707 - val_accuracy: 0.6450\n",
            "Epoch 34/50\n",
            "\n",
            "Epoch 00034: val_loss did not improve from 0.66807\n",
            "50/50 - 5s - loss: 0.6502 - accuracy: 0.6112 - val_loss: 0.6693 - val_accuracy: 0.6250\n",
            "Epoch 35/50\n",
            "\n",
            "Epoch 00035: val_loss did not improve from 0.66807\n",
            "50/50 - 5s - loss: 0.6510 - accuracy: 0.6131 - val_loss: 0.6686 - val_accuracy: 0.6250\n",
            "Epoch 36/50\n",
            "\n",
            "Epoch 00036: val_loss did not improve from 0.66807\n",
            "50/50 - 5s - loss: 0.6488 - accuracy: 0.6162 - val_loss: 0.6698 - val_accuracy: 0.6250\n",
            "Epoch 37/50\n",
            "\n",
            "Epoch 00037: val_loss improved from 0.66807 to 0.66685, saving model to model.h5\n",
            "50/50 - 5s - loss: 0.6466 - accuracy: 0.6331 - val_loss: 0.6668 - val_accuracy: 0.6200\n",
            "Epoch 38/50\n",
            "\n",
            "Epoch 00038: ReduceLROnPlateau reducing learning rate to 0.001.\n",
            "\n",
            "Epoch 00038: val_loss improved from 0.66685 to 0.66642, saving model to model.h5\n",
            "50/50 - 5s - loss: 0.6381 - accuracy: 0.6219 - val_loss: 0.6664 - val_accuracy: 0.6025\n",
            "Epoch 39/50\n",
            "\n",
            "Epoch 00039: val_loss did not improve from 0.66642\n",
            "50/50 - 5s - loss: 0.6560 - accuracy: 0.6169 - val_loss: 0.6700 - val_accuracy: 0.6175\n",
            "Epoch 40/50\n",
            "\n",
            "Epoch 00040: val_loss did not improve from 0.66642\n",
            "50/50 - 5s - loss: 0.6447 - accuracy: 0.6300 - val_loss: 0.6681 - val_accuracy: 0.6400\n",
            "Epoch 41/50\n",
            "\n",
            "Epoch 00041: val_loss did not improve from 0.66642\n",
            "50/50 - 5s - loss: 0.6557 - accuracy: 0.6100 - val_loss: 0.6703 - val_accuracy: 0.6150\n",
            "Epoch 42/50\n",
            "\n",
            "Epoch 00042: val_loss did not improve from 0.66642\n",
            "50/50 - 5s - loss: 0.6450 - accuracy: 0.6162 - val_loss: 0.6684 - val_accuracy: 0.6325\n",
            "Epoch 43/50\n",
            "\n",
            "Epoch 00043: ReduceLROnPlateau reducing learning rate to 0.001.\n",
            "\n",
            "Epoch 00043: val_loss did not improve from 0.66642\n",
            "50/50 - 5s - loss: 0.6395 - accuracy: 0.6294 - val_loss: 0.6671 - val_accuracy: 0.6175\n",
            "Epoch 44/50\n",
            "\n",
            "Epoch 00044: val_loss did not improve from 0.66642\n",
            "50/50 - 5s - loss: 0.6449 - accuracy: 0.6331 - val_loss: 0.6676 - val_accuracy: 0.6325\n",
            "Epoch 45/50\n",
            "\n",
            "Epoch 00045: val_loss improved from 0.66642 to 0.66588, saving model to model.h5\n",
            "50/50 - 5s - loss: 0.6443 - accuracy: 0.6212 - val_loss: 0.6659 - val_accuracy: 0.6300\n",
            "Epoch 46/50\n",
            "\n",
            "Epoch 00046: val_loss did not improve from 0.66588\n",
            "50/50 - 5s - loss: 0.6454 - accuracy: 0.6219 - val_loss: 0.6675 - val_accuracy: 0.6500\n",
            "Epoch 47/50\n",
            "\n",
            "Epoch 00047: val_loss improved from 0.66588 to 0.66468, saving model to model.h5\n",
            "50/50 - 5s - loss: 0.6410 - accuracy: 0.6231 - val_loss: 0.6647 - val_accuracy: 0.6200\n",
            "Epoch 48/50\n",
            "\n",
            "Epoch 00048: val_loss did not improve from 0.66468\n",
            "50/50 - 5s - loss: 0.6383 - accuracy: 0.6388 - val_loss: 0.6652 - val_accuracy: 0.6350\n",
            "Epoch 49/50\n",
            "\n",
            "Epoch 00049: val_loss improved from 0.66468 to 0.66289, saving model to model.h5\n",
            "50/50 - 5s - loss: 0.6415 - accuracy: 0.6237 - val_loss: 0.6629 - val_accuracy: 0.6575\n",
            "Epoch 50/50\n",
            "\n",
            "Epoch 00050: val_loss did not improve from 0.66289\n",
            "50/50 - 5s - loss: 0.6453 - accuracy: 0.6094 - val_loss: 0.6685 - val_accuracy: 0.6550\n"
          ],
          "name": "stdout"
        }
      ]
    },
    {
      "cell_type": "markdown",
      "metadata": {
        "id": "yCR6UuJkesvi",
        "colab_type": "text"
      },
      "source": [
        "##Plotting Acc and Loss Plots"
      ]
    },
    {
      "cell_type": "code",
      "metadata": {
        "id": "cbuNWcn3exs9",
        "colab_type": "code",
        "colab": {
          "base_uri": "https://localhost:8080/",
          "height": 281
        },
        "outputId": "a3336697-bf8f-4b91-a4b9-f6d4b1ffb45b"
      },
      "source": [
        "plt.subplot(1,2,1)\n",
        "plt.plot(history.history['accuracy'], label = 'train')\n",
        "plt.plot(history.history['val_accuracy'], label = 'test')\n",
        "plt.title('accuracy')\n",
        "plt.legend()\n",
        "plt.subplot(1,2,2)\n",
        "plt.plot(history.history['loss'], label = 'train')\n",
        "plt.plot(history.history['val_loss'], label = 'test')\n",
        "plt.title('Loss')\n",
        "plt.legend()\n",
        "plt.subplots_adjust(right = 1.5)\n",
        "plt.show()"
      ],
      "execution_count": 14,
      "outputs": [
        {
          "output_type": "display_data",
          "data": {
            "image/png": "[encoded data removed]",
            "text/plain": [
              "<Figure size 432x288 with 2 Axes>"
            ]
          },
          "metadata": {
            "tags": [],
            "needs_background": "light"
          }
        }
      ]
    },
    {
      "cell_type": "markdown",
      "metadata": {
        "id": "f0Y_dmD4eyWz",
        "colab_type": "text"
      },
      "source": [
        "## Confusion Matrix"
      ]
    },
    {
      "cell_type": "code",
      "metadata": {
        "id": "kuju29JXe1DN",
        "colab_type": "code",
        "colab": {
          "base_uri": "https://localhost:8080/",
          "height": 737
        },
        "outputId": "caeae2cf-0790-4843-f82d-0714fc373a39"
      },
      "source": [
        "from sklearn.metrics import confusion_matrix\n",
        "import seaborn as sns\n",
        "\n",
        "Y_pred = classifier.predict(X_val)\n",
        "\n",
        "Y_pred = np.argmax(Y_pred, axis=1)\n",
        "Y_true = np.argmax(Y_val, axis=1)\n",
        "\n",
        "cm = confusion_matrix(Y_true, Y_pred)\n",
        "plt.figure(figsize=(12, 12))\n",
        "ax = sns.heatmap(cm, cmap=plt.cm.Greens, annot=True, square=True, xticklabels=disease_types, yticklabels=disease_types)\n",
        "ax.set_ylabel('Actual', fontsize=40)\n",
        "ax.set_xlabel('Predicted', fontsize=40)"
      ],
      "execution_count": 15,
      "outputs": [
        {
          "output_type": "stream",
          "text": [
            "/usr/local/lib/python3.6/dist-packages/statsmodels/tools/_testing.py:19: FutureWarning: pandas.util.testing is deprecated. Use the functions in the public API at pandas.testing instead.\n",
            "  import pandas.util.testing as tm\n"
          ],
          "name": "stderr"
        },
        {
          "output_type": "execute_result",
          "data": {
            "text/plain": [
              "Text(0.5, 145.31999999999996, 'Predicted')"
            ]
          },
          "metadata": {
            "tags": []
          },
          "execution_count": 15
        },
        {
          "output_type": "display_data",
          "data": {
            "image/png": "[encoded data removed]",
            "text/plain": [
              "<Figure size 864x864 with 2 Axes>"
            ]
          },
          "metadata": {
            "tags": [],
            "needs_background": "light"
          }
        }
      ]
    },
    {
      "cell_type": "code",
      "metadata": {
        "id": "poS4IvnfB8QX",
        "colab_type": "code",
        "colab": {
          "base_uri": "https://localhost:8080/",
          "height": 34
        },
        "outputId": "b598c670-6d4e-4fdc-fbe2-c49849c6e01c"
      },
      "source": [
        "\n",
        "result = classifier.predict(X_val)\n",
        "r = abs(np.round(result)-Y_val).sum()\n",
        "(400-r)/400"
      ],
      "execution_count": null,
      "outputs": [
        {
          "output_type": "execute_result",
          "data": {
            "text/plain": [
              "0.87"
            ]
          },
          "metadata": {
            "tags": []
          },
          "execution_count": 30
        }
      ]
    },
    {
      "cell_type": "code",
      "metadata": {
        "id": "p32x06RlB_zo",
        "colab_type": "code",
        "colab": {
          "base_uri": "https://localhost:8080/",
          "height": 34
        },
        "outputId": "68d08b68-e0a2-4749-b45d-4eb58292a6e8"
      },
      "source": [
        "result = classifier.predict(X_train)\n",
        "r = abs(np.round(result)-Y_train).sum()\n",
        "(1600-r)/1600"
      ],
      "execution_count": null,
      "outputs": [
        {
          "output_type": "execute_result",
          "data": {
            "text/plain": [
              "0.88"
            ]
          },
          "metadata": {
            "tags": []
          },
          "execution_count": 29
        }
      ]
    },
    {
      "cell_type": "markdown",
      "metadata": {
        "id": "KUwYMjC5jZuJ",
        "colab_type": "text"
      },
      "source": [
        "## Saving Model"
      ]
    },
    {
      "cell_type": "code",
      "metadata": {
        "id": "x83bDWwCh0ta",
        "colab_type": "code",
        "colab": {}
      },
      "source": [
        "!mkdir -p saved_model\n",
        "classifier.save('saved_model/my_model') "
      ],
      "execution_count": null,
      "outputs": []
    },
    {
      "cell_type": "code",
      "metadata": {
        "id": "Nm5kILoAi5li",
        "colab_type": "code",
        "colab": {
          "base_uri": "https://localhost:8080/",
          "height": 34
        },
        "outputId": "5b370d11-44da-4b2f-aefd-471833fc5657"
      },
      "source": [
        "!ls saved_model/my_model"
      ],
      "execution_count": null,
      "outputs": [
        {
          "output_type": "stream",
          "text": [
            "saved_model/my_model\n"
          ],
          "name": "stdout"
        }
      ]
    },
    {
      "cell_type": "code",
      "metadata": {
        "id": "BgIu0iFajAEp",
        "colab_type": "code",
        "colab": {
          "base_uri": "https://localhost:8080/",
          "height": 622
        },
        "outputId": "b861be2d-ba60-4f21-8e7c-d0012c9f94a3"
      },
      "source": [
        "import tensorflow as tf\n",
        "from tensorflow import keras\n",
        "new_model = tf.keras.models.load_model('saved_model/my_model')\n",
        "\n",
        "# Check its architecture\n",
        "new_model.summary()"
      ],
      "execution_count": null,
      "outputs": [
        {
          "output_type": "stream",
          "text": [
            "Model: \"sequential_3\"\n",
            "_________________________________________________________________\n",
            "Layer (type)                 Output Shape              Param #   \n",
            "=================================================================\n",
            "conv2d_7 (Conv2D)            (None, 122, 122, 32)      4736      \n",
            "_________________________________________________________________\n",
            "dropout_9 (Dropout)          (None, 122, 122, 32)      0         \n",
            "_________________________________________________________________\n",
            "activation_3 (Activation)    (None, 122, 122, 32)      0         \n",
            "_________________________________________________________________\n",
            "max_pooling2d_7 (MaxPooling2 (None, 61, 61, 32)        0         \n",
            "_________________________________________________________________\n",
            "conv2d_8 (Conv2D)            (None, 55, 55, 64)        100416    \n",
            "_________________________________________________________________\n",
            "dropout_10 (Dropout)         (None, 55, 55, 64)        0         \n",
            "_________________________________________________________________\n",
            "max_pooling2d_8 (MaxPooling2 (None, 27, 27, 64)        0         \n",
            "_________________________________________________________________\n",
            "conv2d_9 (Conv2D)            (None, 21, 21, 128)       401536    \n",
            "_________________________________________________________________\n",
            "dropout_11 (Dropout)         (None, 21, 21, 128)       0         \n",
            "_________________________________________________________________\n",
            "max_pooling2d_9 (MaxPooling2 (None, 10, 10, 128)       0         \n",
            "_________________________________________________________________\n",
            "flatten_3 (Flatten)          (None, 12800)             0         \n",
            "_________________________________________________________________\n",
            "dense_5 (Dense)              (None, 64)                819264    \n",
            "_________________________________________________________________\n",
            "dropout_12 (Dropout)         (None, 64)                0         \n",
            "_________________________________________________________________\n",
            "dense_6 (Dense)              (None, 2)                 130       \n",
            "=================================================================\n",
            "Total params: 1,326,082\n",
            "Trainable params: 1,326,082\n",
            "Non-trainable params: 0\n",
            "_________________________________________________________________\n"
          ],
          "name": "stdout"
        }
      ]
    },
    {
      "cell_type": "code",
      "metadata": {
        "id": "dX6NQ2RzjOpc",
        "colab_type": "code",
        "colab": {
          "base_uri": "https://localhost:8080/",
          "height": 34
        },
        "outputId": "d886cee4-24a9-47c8-e083-a3cab0de1d9a"
      },
      "source": [
        "result = new_model.predict(X_val)\n",
        "r = abs(np.round(result)-Y_val).sum()\n",
        "(400-r)/400"
      ],
      "execution_count": null,
      "outputs": [
        {
          "output_type": "execute_result",
          "data": {
            "text/plain": [
              "0.87"
            ]
          },
          "metadata": {
            "tags": []
          },
          "execution_count": 37
        }
      ]
    },
    {
      "cell_type": "markdown",
      "metadata": {
        "id": "N30kIyzWkGyT",
        "colab_type": "text"
      },
      "source": [
        "## Saving Model with pythorch"
      ]
    },
    {
      "cell_type": "code",
      "metadata": {
        "id": "pqHGPKkykEpe",
        "colab_type": "code",
        "colab": {}
      },
      "source": [
        "import torch\n",
        "from torchvision import datasets, models, transforms"
      ],
      "execution_count": null,
      "outputs": []
    },
    {
      "cell_type": "code",
      "metadata": {
        "id": "rS--YH9VkFRT",
        "colab_type": "code",
        "colab": {
          "base_uri": "https://localhost:8080/",
          "height": 34
        },
        "outputId": "95a4e264-d5f7-4c7b-a1d2-af95859272af"
      },
      "source": [
        "from google.colab import drive\n",
        "drive.mount('/content/gdrive')"
      ],
      "execution_count": 17,
      "outputs": [
        {
          "output_type": "stream",
          "text": [
            "Mounted at /content/gdrive\n"
          ],
          "name": "stdout"
        }
      ]
    },
    {
      "cell_type": "code",
      "metadata": {
        "id": "G5Rldqu8kRVj",
        "colab_type": "code",
        "colab": {}
      },
      "source": [
        "#model_save_name = 'COVID19.h5'\n",
        "#path = F\"/content/gdrive/My Drive/{model_save_name}\" \n",
        "#torch.save(classifier, path)\n",
        "classifier.save('/content/gdrive/My Drive/COVID19-SGD.h5')"
      ],
      "execution_count": 18,
      "outputs": []
    }
  ]
}